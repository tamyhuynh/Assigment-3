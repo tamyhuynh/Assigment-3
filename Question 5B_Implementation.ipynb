{
 "cells": [
  {
   "cell_type": "markdown",
   "metadata": {},
   "source": [
    "## Import libraries, load data and setup"
   ]
  },
  {
   "cell_type": "code",
   "execution_count": null,
   "metadata": {
    "execution": {
     "iopub.execute_input": "2025-06-05T23:22:33.401433Z",
     "iopub.status.busy": "2025-06-05T23:22:33.401099Z",
     "iopub.status.idle": "2025-06-05T23:22:33.449938Z",
     "shell.execute_reply": "2025-06-05T23:22:33.449057Z",
     "shell.execute_reply.started": "2025-06-05T23:22:33.401405Z"
    }
   },
   "outputs": [
    {
     "name": "stdout",
     "output_type": "stream",
     "text": [
      "Directors dataset: 13347 records\n",
      "Fortune 1000 dataset: 1000 companies\n"
     ]
    }
   ],
   "source": [
    "import pandas as pd\n",
    "import matplotlib.pyplot as plt\n",
    "import numpy as np\n",
    "\n",
    "#load datasets\n",
    "df_directors = pd.read_csv('company_directorships.csv')\n",
    "df_fortune = pd.read_csv('Fortune_1000.csv')\n",
    "\n",
    "print(f\"Directors dataset: {len(df_directors)} records\")\n",
    "print(f\"Fortune 1000 dataset: {len(df_fortune)} companies\")"
   ]
  },
  {
   "cell_type": "markdown",
   "metadata": {},
   "source": [
    "## Company name matching"
   ]
  },
  {
   "cell_type": "code",
   "execution_count": 7,
   "metadata": {
    "execution": {
     "iopub.execute_input": "2025-06-05T23:22:33.451923Z",
     "iopub.status.busy": "2025-06-05T23:22:33.451586Z",
     "iopub.status.idle": "2025-06-05T23:22:33.469118Z",
     "shell.execute_reply": "2025-06-05T23:22:33.468033Z",
     "shell.execute_reply.started": "2025-06-05T23:22:33.451887Z"
    }
   },
   "outputs": [
    {
     "name": "stdout",
     "output_type": "stream",
     "text": [
      "Found 95 director positions at Fortune 1000 companies\n",
      "Unique Fortune 1000 companies in network: 5\n"
     ]
    }
   ],
   "source": [
    "#create company name matching by converting to uppercase\n",
    "df_directors['company_upper'] = df_directors['company_name'].str.upper()\n",
    "df_fortune['company_upper'] = df_fortune['company'].str.upper()\n",
    "\n",
    "#find exact matches between datasets\n",
    "fortune_companies = set(df_fortune['company_upper'].tolist())\n",
    "df_directors['is_fortune_1000'] = df_directors['company_upper'].isin(fortune_companies)\n",
    "\n",
    "print(f\"Found {df_directors['is_fortune_1000'].sum()} director positions at Fortune 1000 companies\")\n",
    "print(f\"Unique Fortune 1000 companies in network: {df_directors[df_directors['is_fortune_1000']]['company_name'].nunique()}\")"
   ]
  },
  {
   "cell_type": "markdown",
   "metadata": {},
   "source": [
    "## Add Fortune 1000 financial data"
   ]
  },
  {
   "cell_type": "code",
   "execution_count": 8,
   "metadata": {
    "execution": {
     "iopub.execute_input": "2025-06-05T23:22:33.470675Z",
     "iopub.status.busy": "2025-06-05T23:22:33.470325Z",
     "iopub.status.idle": "2025-06-05T23:22:33.803279Z",
     "shell.execute_reply": "2025-06-05T23:22:33.802268Z",
     "shell.execute_reply.started": "2025-06-05T23:22:33.470639Z"
    }
   },
   "outputs": [
    {
     "name": "stdout",
     "output_type": "stream",
     "text": [
      "Successfully matched 5 Fortune 1000 companies:\n",
      "              company_name  company_revenue company_sector\n",
      "66     ABBOTT LABORATORIES          43075.0    Health Care\n",
      "4240     EVERSOURCE ENERGY           9863.1         Energy\n",
      "4382   FIFTH THIRD BANCORP           8329.0     Financials\n",
      "7023     JOHNSON & JOHNSON          93775.0    Health Care\n",
      "12472           Unum Group          12013.8     Financials\n"
     ]
    }
   ],
   "source": [
    "#clean and convert Fortune 1000 financial data to numeric\n",
    "df_fortune['revenue_clean'] = pd.to_numeric(df_fortune['revenue'], errors='coerce')\n",
    "df_fortune['profit_clean'] = pd.to_numeric(df_fortune['profit'], errors='coerce')\n",
    "\n",
    "#create lookup dictionary with cleaned data\n",
    "fortune_lookup = df_fortune.set_index('company_upper')[['revenue_clean', 'profit_clean', 'sector', 'rank']].to_dict('index')\n",
    "\n",
    "#initialize columns with proper data types\n",
    "df_directors['company_revenue'] = 0.0\n",
    "df_directors['company_profit'] = 0.0  \n",
    "df_directors['company_sector'] = ''\n",
    "\n",
    "#add financial metrics only for matched companies\n",
    "matched_companies = []\n",
    "for company in fortune_companies:\n",
    "    if company in fortune_lookup and company in df_directors['company_upper'].values:\n",
    "        mask = df_directors['company_upper'] == company\n",
    "        \n",
    "        #only update if we have valid numeric data\n",
    "        revenue = fortune_lookup[company]['revenue_clean']\n",
    "        profit = fortune_lookup[company]['profit_clean']\n",
    "        \n",
    "        if not pd.isna(revenue):\n",
    "            df_directors.loc[mask, 'company_revenue'] = revenue\n",
    "        if not pd.isna(profit):\n",
    "            df_directors.loc[mask, 'company_profit'] = profit\n",
    "            \n",
    "        df_directors.loc[mask, 'company_sector'] = fortune_lookup[company]['sector']\n",
    "        matched_companies.append(company)\n",
    "\n",
    "print(f\"Successfully matched {len(matched_companies)} Fortune 1000 companies:\")\n",
    "#show some examples of matches\n",
    "sample_matches = df_directors[df_directors['is_fortune_1000'] == True][['company_name', 'company_revenue', 'company_sector']].drop_duplicates().head(10)\n",
    "print(sample_matches)"
   ]
  },
  {
   "cell_type": "markdown",
   "metadata": {},
   "source": [
    "## Calculate director Fortune 1000 scores"
   ]
  },
  {
   "cell_type": "code",
   "execution_count": 9,
   "metadata": {
    "execution": {
     "iopub.execute_input": "2025-06-05T23:22:33.805492Z",
     "iopub.status.busy": "2025-06-05T23:22:33.805221Z",
     "iopub.status.idle": "2025-06-05T23:22:33.834240Z",
     "shell.execute_reply": "2025-06-05T23:22:33.833282Z",
     "shell.execute_reply.started": "2025-06-05T23:22:33.805469Z"
    }
   },
   "outputs": [
    {
     "name": "stdout",
     "output_type": "stream",
     "text": [
      "Calculated scores for 11827 directors\n"
     ]
    }
   ],
   "source": [
    "#calculate Fortune 1000 connection scores for each director\n",
    "director_scores = df_directors.groupby('director_name').agg({\n",
    "    'is_fortune_1000': 'sum', #number of Fortune 1000 boards\n",
    "    'company_revenue': 'sum', #total revenue of connected Fortune 1000 companies\n",
    "    'company_name': 'count' #total number of boards\n",
    "}).rename(columns={\n",
    "    'is_fortune_1000': 'fortune_1000_boards',\n",
    "    'company_revenue': 'total_fortune_revenue',\n",
    "    'company_name': 'total_boards'\n",
    "})\n",
    "\n",
    "#calculate Fortune 1000 connection percentage\n",
    "director_scores['fortune_1000_percentage'] = (director_scores['fortune_1000_boards'] / director_scores['total_boards']) * 100\n",
    "\n",
    "#create ranking score (combination of boards and revenue)\n",
    "director_scores['fortune_connection_score'] = (\n",
    "    director_scores['fortune_1000_boards'] * 10 + #10 points per Fortune 1000 board\n",
    "    director_scores['total_fortune_revenue'] / 1000 #1 point per $1B revenue\n",
    ")\n",
    "\n",
    "print(f\"Calculated scores for {len(director_scores)} directors\")"
   ]
  },
  {
   "cell_type": "markdown",
   "metadata": {},
   "source": [
    "## Top directors analysis and visualization"
   ]
  },
  {
   "cell_type": "code",
   "execution_count": 11,
   "metadata": {
    "execution": {
     "iopub.execute_input": "2025-06-05T23:31:37.784406Z",
     "iopub.status.busy": "2025-06-05T23:31:37.784055Z",
     "iopub.status.idle": "2025-06-05T23:31:38.253599Z",
     "shell.execute_reply": "2025-06-05T23:31:38.252276Z",
     "shell.execute_reply.started": "2025-06-05T23:31:37.784377Z"
    }
   },
   "outputs": [
    {
     "name": "stdout",
     "output_type": "stream",
     "text": [
      "FORTUNE 1000 INTEGRATION ANALYSIS RESULTS\n",
      "==================================================\n",
      "\n",
      "MATCHED FORTUNE 1000 COMPANIES (5):\n",
      "----------------------------------------\n",
      "JOHNSON & JOHNSON: $93,775M (Health Care)\n",
      "ABBOTT LABORATORIES: $43,075M (Health Care)\n",
      "Unum Group: $12,014M (Financials)\n",
      "EVERSOURCE ENERGY: $9,863M (Energy)\n",
      "FIFTH THIRD BANCORP: $8,329M (Financials)\n",
      "\n",
      "DIRECTOR NETWORK SUMMARY:\n",
      "-------------------------\n",
      "Total directors analyzed: 11,827\n",
      "Directors with Fortune 1000 connections: 95\n",
      "Fortune 1000 coverage: 0.7% of all board positions\n",
      "\n",
      "TOP 10 ACQUISITION FACILITATORS:\n",
      "-----------------------------------\n",
      "1. A. EUGENE WASHINGTON\n",
      "   Connected to: JOHNSON & JOHNSON\n",
      "   Company revenue: $93,775M\n",
      "   Connection score: 103.8\n",
      "\n",
      "2. NADJA Y. WEST, M.D.\n",
      "   Connected to: JOHNSON & JOHNSON\n",
      "   Company revenue: $93,775M\n",
      "   Connection score: 103.8\n",
      "\n",
      "3. IAN E. L. DAVIS\n",
      "   Connected to: JOHNSON & JOHNSON\n",
      "   Company revenue: $93,775M\n",
      "   Connection score: 103.8\n",
      "\n",
      "4. RONALD A. WILLIAMS\n",
      "   Connected to: JOHNSON & JOHNSON\n",
      "   Company revenue: $93,775M\n",
      "   Connection score: 103.8\n",
      "\n",
      "5. JENNIFER A. DOUDNA\n",
      "   Connected to: JOHNSON & JOHNSON\n",
      "   Company revenue: $93,775M\n",
      "   Connection score: 103.8\n",
      "\n",
      "6. JENNIFER A. DOUDNA, PH.D.\n",
      "   Connected to: JOHNSON & JOHNSON\n",
      "   Company revenue: $93,775M\n",
      "   Connection score: 103.8\n",
      "\n",
      "7. D. SCOTT DAVIS\n",
      "   Connected to: JOHNSON & JOHNSON\n",
      "   Company revenue: $93,775M\n",
      "   Connection score: 103.8\n",
      "\n",
      "8. A. EUGENE WASHINGTON, M.D., M.SC.\n",
      "   Connected to: JOHNSON & JOHNSON\n",
      "   Company revenue: $93,775M\n",
      "   Connection score: 103.8\n",
      "\n",
      "9. MARY C. BECKERLE, PH.D.\n",
      "   Connected to: JOHNSON & JOHNSON\n",
      "   Company revenue: $93,775M\n",
      "   Connection score: 103.8\n",
      "\n",
      "10. MARY C. BECKERLE\n",
      "   Connected to: JOHNSON & JOHNSON\n",
      "   Company revenue: $93,775M\n",
      "   Connection score: 103.8\n",
      "\n",
      "SCORING EXPLANATION:\n",
      "--------------------\n",
      "Connection Score = (Fortune 1000 boards × 10) + (Connected revenue ÷ 1000)\n",
      "Directors connected to the same high-revenue company will have identical scores.\n",
      "Johnson & Johnson ($93,775M) generates the highest scores.\n"
     ]
    },
    {
     "data": {
      "image/png": "[encoded data removed]",
      "text/plain": [
       "<Figure size 1200x500 with 2 Axes>"
      ]
     },
     "metadata": {},
     "output_type": "display_data"
    },
    {
     "name": "stdout",
     "output_type": "stream",
     "text": [
      "\n",
      "Results exported to 'fortune_1000_director_rankings.csv'\n"
     ]
    }
   ],
   "source": [
    "#calculate Fortune 1000 connection scores for each director\n",
    "director_scores = df_directors.groupby('director_name').agg({\n",
    "    'is_fortune_1000': 'sum', #number of Fortune 1000 boards\n",
    "    'company_revenue': 'sum', #total revenue of connected Fortune 1000 companies\n",
    "    'company_name': 'count' #total number of boards\n",
    "}).rename(columns={\n",
    "    'is_fortune_1000': 'fortune_1000_boards',\n",
    "    'company_revenue': 'total_fortune_revenue',\n",
    "    'company_name': 'total_boards'\n",
    "})\n",
    "\n",
    "#calculate Fortune 1000 connection percentage\n",
    "director_scores['fortune_1000_percentage'] = (director_scores['fortune_1000_boards'] / director_scores['total_boards']) * 100\n",
    "\n",
    "#create ranking score (simple combination of boards and revenue)\n",
    "director_scores['fortune_connection_score'] = (\n",
    "    director_scores['fortune_1000_boards'] * 10 + #10 points per Fortune 1000 board\n",
    "    director_scores['total_fortune_revenue'] / 1000 #1 point per $1B revenue\n",
    ")\n",
    "\n",
    "print(\"FORTUNE 1000 INTEGRATION ANALYSIS RESULTS\")\n",
    "print(\"=\" * 50)\n",
    "\n",
    "#show matched companies with their details\n",
    "print(f\"\\nMATCHED FORTUNE 1000 COMPANIES ({len(matched_companies)}):\")\n",
    "print(\"-\" * 40)\n",
    "company_details = df_directors[df_directors['is_fortune_1000'] == True][['company_name', 'company_revenue', 'company_sector']].drop_duplicates().sort_values('company_revenue', ascending=False)\n",
    "for _, company in company_details.iterrows():\n",
    "    print(f\"{company['company_name']}: ${company['company_revenue']:,.0f}M ({company['company_sector']})\")\n",
    "\n",
    "#identify top directors for acquisition facilitation\n",
    "top_directors = director_scores[director_scores['fortune_1000_boards'] > 0].sort_values('fortune_connection_score', ascending=False)\n",
    "\n",
    "print(f\"\\nDIRECTOR NETWORK SUMMARY:\")\n",
    "print(\"-\" * 25)\n",
    "print(f\"Total directors analyzed: {len(director_scores):,}\")\n",
    "print(f\"Directors with Fortune 1000 connections: {len(top_directors):,}\")\n",
    "print(f\"Fortune 1000 coverage: {(df_directors['is_fortune_1000'].sum() / len(df_directors)) * 100:.1f}% of all board positions\")\n",
    "\n",
    "print(f\"\\nTOP 10 ACQUISITION FACILITATORS:\")\n",
    "print(\"-\" * 35)\n",
    "for i, (name, data) in enumerate(top_directors.head(10).iterrows(), 1):\n",
    "    #get the specific Fortune 1000 company this director is connected to\n",
    "    director_companies = df_directors[df_directors['director_name'] == name]\n",
    "    fortune_company = director_companies[director_companies['is_fortune_1000'] == True]['company_name'].iloc[0]\n",
    "    \n",
    "    print(f\"{i}. {name}\")\n",
    "    print(f\"   Connected to: {fortune_company}\")\n",
    "    print(f\"   Company revenue: ${data['total_fortune_revenue']:,.0f}M\")\n",
    "    print(f\"   Connection score: {data['fortune_connection_score']:.1f}\")\n",
    "    print()\n",
    "\n",
    "#explain why scores might be identical\n",
    "print(\"SCORING EXPLANATION:\")\n",
    "print(\"-\" * 20)\n",
    "print(\"Connection Score = (Fortune 1000 boards × 10) + (Connected revenue ÷ 1000)\")\n",
    "print(\"Directors connected to the same high-revenue company will have identical scores.\")\n",
    "print(f\"Johnson & Johnson (${company_details.iloc[0]['company_revenue']:,.0f}M) generates the highest scores.\")\n",
    "\n",
    "#simple visualization\n",
    "fig, (ax1, ax2) = plt.subplots(1, 2, figsize=(12, 5))\n",
    "\n",
    "#chart 1: Fortune 1000 vs other connections\n",
    "fortune_summary = df_directors['is_fortune_1000'].value_counts()\n",
    "ax1.pie(fortune_summary.values, labels=['Other Companies', 'Fortune 1000'], autopct='%1.1f%%')\n",
    "ax1.set_title('Director Board Positions: Fortune 1000 vs Others')\n",
    "\n",
    "#chart 2: Top directors by Fortune 1000 connections\n",
    "top_10 = top_directors.head(10)\n",
    "ax2.barh(range(len(top_10)), top_10['fortune_connection_score'])\n",
    "ax2.set_yticks(range(len(top_10)))\n",
    "ax2.set_yticklabels([name[:20] + '...' if len(name) > 20 else name for name in top_10.index])\n",
    "ax2.set_title('Top 10 Directors by Fortune 1000 Connection Score')\n",
    "ax2.set_xlabel('Connection Score')\n",
    "\n",
    "plt.tight_layout()\n",
    "plt.show()\n",
    "\n",
    "#export results\n",
    "top_directors.to_csv('fortune_1000_director_rankings.csv')\n",
    "print(f\"\\nResults exported to 'fortune_1000_director_rankings.csv'\")"
   ]
  },
  {
   "cell_type": "markdown",
   "metadata": {},
   "source": [
    "# Fortune 1000 Integration Results\n",
    "\n",
    "## What We Implemented\n",
    "This analysis integrated the Fortune 1000 dataset with our director network by matching company names and adding financial data (revenue, profit, sector) to director records. We created a simple scoring system that combines the number of Fortune 1000 boards each director serves on with the total revenue of their connected Fortune 1000 companies.\n",
    "\n",
    "## Results Explanation\n",
    "- 5 Fortune 1000 companies were successfully matched in our director network\n",
    "- 95 directors have connections to these Fortune 1000 companies  \n",
    "- Johnson & Johnson dominates the results due to its massive $93.8B revenue, making all its directors score identically at the top\n",
    "- Low coverage (0.7%) is expected since most companies in the director network are smaller firms, not Fortune 1000 giants\n",
    "\n",
    "## Why These Results Make Sense\n",
    "The identical top scores occur because multiple directors serve on Johnson & Johnson's board, and our scoring formula heavily weights company revenue. This actually provides valuable insight, these directors have access to the single wealthiest potential acquirer in our network. The analysis successfully identifies which directors can connect the VC fund to companies with the financial capacity for major acquisitions."
   ]
  }
 ],
 "metadata": {
  "kaggle": {
   "accelerator": "none",
   "dataSources": [
    {
     "datasetId": 7599665,
     "sourceId": 12074564,
     "sourceType": "datasetVersion"
    }
   ],
   "dockerImageVersionId": 31040,
   "isGpuEnabled": false,
   "isInternetEnabled": true,
   "language": "python",
   "sourceType": "notebook"
  },
  "kernelspec": {
   "display_name": "Python 3 (ipykernel)",
   "language": "python",
   "name": "python3"
  },
  "language_info": {
   "codemirror_mode": {
    "name": "ipython",
    "version": 3
   },
   "file_extension": ".py",
   "mimetype": "text/x-python",
   "name": "python",
   "nbconvert_exporter": "python",
   "pygments_lexer": "ipython3",
   "version": "3.12.4"
  }
 },
 "nbformat": 4,
 "nbformat_minor": 4
}
