{
 "cells": [
  {
   "cell_type": "markdown",
   "id": "d4c99623-6936-4723-9c2f-c108c0dc3df3",
   "metadata": {},
   "source": [
    "## Import required libraries\n",
    "Modified: consolidated all imports at the beginning for better code organization"
   ]
  },
  {
   "cell_type": "code",
   "execution_count": 1,
   "id": "28799a07-af91-44d1-8784-47d0ad2250ce",
   "metadata": {},
   "outputs": [],
   "source": [
    "import pandas\n",
    "import matplotlib.pyplot as plt\n",
    "import seaborn as sns\n",
    "import math\n",
    "import networkx\n",
    "import networkx.algorithms\n",
    "import sklearn.cluster\n",
    "import sklearn.preprocessing"
   ]
  },
  {
   "cell_type": "markdown",
   "id": "c7f74779-3fed-4310-8d76-85002dc0e707",
   "metadata": {},
   "source": [
    "## Load and process company directorships data\n",
    "Modified - issue: data preprocessing validation\n",
    "\n",
    "Added validation checks for data completeness and quality after loading"
   ]
  },
  {
   "cell_type": "code",
   "execution_count": 4,
   "id": "59b4f077-bb53-4a6d-b193-fc3fd107ec77",
   "metadata": {},
   "outputs": [
    {
     "name": "stdout",
     "output_type": "stream",
     "text": [
      "Loaded 13347 directorship records\n",
      "Unique directors: 11827\n",
      "Unique companies: 659\n"
     ]
    },
    {
     "data": {
      "text/html": [
       "<div>\n",
       "<style scoped>\n",
       "    .dataframe tbody tr th:only-of-type {\n",
       "        vertical-align: middle;\n",
       "    }\n",
       "\n",
       "    .dataframe tbody tr th {\n",
       "        vertical-align: top;\n",
       "    }\n",
       "\n",
       "    .dataframe thead th {\n",
       "        text-align: right;\n",
       "    }\n",
       "</style>\n",
       "<table border=\"1\" class=\"dataframe\">\n",
       "  <thead>\n",
       "    <tr style=\"text-align: right;\">\n",
       "      <th></th>\n",
       "      <th>company_name</th>\n",
       "      <th>cikcode</th>\n",
       "      <th>director_name</th>\n",
       "      <th>software_background</th>\n",
       "      <th>start_date</th>\n",
       "      <th>end_date</th>\n",
       "    </tr>\n",
       "  </thead>\n",
       "  <tbody>\n",
       "    <tr>\n",
       "      <th>7248</th>\n",
       "      <td>KINGSTONE COMPANIES, INC.</td>\n",
       "      <td>33992</td>\n",
       "      <td>CARLA A. D'ANDRE</td>\n",
       "      <td>False</td>\n",
       "      <td>2017-06-29</td>\n",
       "      <td>2018-06-21</td>\n",
       "    </tr>\n",
       "    <tr>\n",
       "      <th>580</th>\n",
       "      <td>AMERICAN INTERNATIONAL GROUP, INC.</td>\n",
       "      <td>5272</td>\n",
       "      <td>JAMES COLE, JR.</td>\n",
       "      <td>False</td>\n",
       "      <td>2025-04-02</td>\n",
       "      <td>2025-04-02</td>\n",
       "    </tr>\n",
       "    <tr>\n",
       "      <th>9533</th>\n",
       "      <td>PEPSICO INC</td>\n",
       "      <td>77476</td>\n",
       "      <td>SUSAN M. DIAMOND</td>\n",
       "      <td>False</td>\n",
       "      <td>2025-03-28</td>\n",
       "      <td>2025-03-28</td>\n",
       "    </tr>\n",
       "    <tr>\n",
       "      <th>11141</th>\n",
       "      <td>S&amp;T BANCORP INC</td>\n",
       "      <td>719220</td>\n",
       "      <td>PETER G. GURT</td>\n",
       "      <td>False</td>\n",
       "      <td>2025-03-31</td>\n",
       "      <td>2025-03-31</td>\n",
       "    </tr>\n",
       "    <tr>\n",
       "      <th>12250</th>\n",
       "      <td>UNION BANKSHARES INC</td>\n",
       "      <td>706863</td>\n",
       "      <td>FRANKLIN G. HOVEY, II</td>\n",
       "      <td>False</td>\n",
       "      <td>2001-04-12</td>\n",
       "      <td>2010-04-14</td>\n",
       "    </tr>\n",
       "  </tbody>\n",
       "</table>\n",
       "</div>"
      ],
      "text/plain": [
       "                             company_name  cikcode          director_name  \\\n",
       "7248            KINGSTONE COMPANIES, INC.    33992       CARLA A. D'ANDRE   \n",
       "580    AMERICAN INTERNATIONAL GROUP, INC.     5272        JAMES COLE, JR.   \n",
       "9533                          PEPSICO INC    77476       SUSAN M. DIAMOND   \n",
       "11141                     S&T BANCORP INC   719220          PETER G. GURT   \n",
       "12250                UNION BANKSHARES INC   706863  FRANKLIN G. HOVEY, II   \n",
       "\n",
       "       software_background  start_date    end_date  \n",
       "7248                 False  2017-06-29  2018-06-21  \n",
       "580                  False  2025-04-02  2025-04-02  \n",
       "9533                 False  2025-03-28  2025-03-28  \n",
       "11141                False  2025-03-31  2025-03-31  \n",
       "12250                False  2001-04-12  2010-04-14  "
      ]
     },
     "execution_count": 4,
     "metadata": {},
     "output_type": "execute_result"
    }
   ],
   "source": [
    "#load the main dataset about director-company relationships\n",
    "df = pandas.read_csv('company_directorships.csv')\n",
    "\n",
    "#convert software background 't'/'f' to bool True/False\n",
    "df.software_background = df.software_background.map(lambda x: x == 't')\n",
    "\n",
    "#validate data completeness after loading\n",
    "print(f\"Loaded {len(df)} directorship records\")\n",
    "print(f\"Unique directors: {df['director_name'].nunique()}\")\n",
    "print(f\"Unique companies: {df['company_name'].nunique()}\")\n",
    "\n",
    "missing_data = df.isnull().sum()\n",
    "if missing_data.any():\n",
    "    print(\"Warning: Missing data detected:\")\n",
    "    print(missing_data[missing_data > 0])\n",
    "\n",
    "#display sample to verify data loading\n",
    "df.sample(5)"
   ]
  },
  {
   "cell_type": "markdown",
   "id": "802fb815-6c47-455f-b94a-34bc23d000d7",
   "metadata": {},
   "source": [
    "##  Load and process director demographic\n",
    "Modified - issue: undocumented data transformation, data preprocessing validation\n",
    "\n",
    "Added documentation for log compensation transformation and aggregation logic\n",
    "\n",
    "Added validation checks for compensation data quality and aggregation results"
   ]
  },
  {
   "cell_type": "code",
   "execution_count": 7,
   "id": "85988c0b-40e6-48fc-95df-e39f0432adb4",
   "metadata": {},
   "outputs": [
    {
     "name": "stdout",
     "output_type": "stream",
     "text": [
      "Processed 5421 unique directors\n",
      "Zero compensation entries: 662\n",
      "Missing age data: 0\n"
     ]
    },
    {
     "data": {
      "text/html": [
       "<div>\n",
       "<style scoped>\n",
       "    .dataframe tbody tr th:only-of-type {\n",
       "        vertical-align: middle;\n",
       "    }\n",
       "\n",
       "    .dataframe tbody tr th {\n",
       "        vertical-align: top;\n",
       "    }\n",
       "\n",
       "    .dataframe thead th {\n",
       "        text-align: right;\n",
       "    }\n",
       "</style>\n",
       "<table border=\"1\" class=\"dataframe\">\n",
       "  <thead>\n",
       "    <tr style=\"text-align: right;\">\n",
       "      <th></th>\n",
       "      <th>age</th>\n",
       "      <th>compensation</th>\n",
       "      <th>gender</th>\n",
       "      <th>log_compensation</th>\n",
       "    </tr>\n",
       "    <tr>\n",
       "      <th>NAME</th>\n",
       "      <th></th>\n",
       "      <th></th>\n",
       "      <th></th>\n",
       "      <th></th>\n",
       "    </tr>\n",
       "  </thead>\n",
       "  <tbody>\n",
       "    <tr>\n",
       "      <th>A. CATHERINE NGO</th>\n",
       "      <td>64</td>\n",
       "      <td>1006154</td>\n",
       "      <td>female</td>\n",
       "      <td>6.002665</td>\n",
       "    </tr>\n",
       "    <tr>\n",
       "      <th>A. EUGENE WASHINGTON</th>\n",
       "      <td>70</td>\n",
       "      <td>324871</td>\n",
       "      <td>male</td>\n",
       "      <td>5.511712</td>\n",
       "    </tr>\n",
       "    <tr>\n",
       "      <th>A. F. PETROCELLI</th>\n",
       "      <td>80</td>\n",
       "      <td>47000</td>\n",
       "      <td>male</td>\n",
       "      <td>4.672107</td>\n",
       "    </tr>\n",
       "    <tr>\n",
       "      <th>A. FARAZ ABBASI</th>\n",
       "      <td>52</td>\n",
       "      <td>113631</td>\n",
       "      <td>male</td>\n",
       "      <td>5.055501</td>\n",
       "    </tr>\n",
       "    <tr>\n",
       "      <th>A. LARRY CHAPMAN</th>\n",
       "      <td>78</td>\n",
       "      <td>259500</td>\n",
       "      <td>male</td>\n",
       "      <td>5.414139</td>\n",
       "    </tr>\n",
       "    <tr>\n",
       "      <th>...</th>\n",
       "      <td>...</td>\n",
       "      <td>...</td>\n",
       "      <td>...</td>\n",
       "      <td>...</td>\n",
       "    </tr>\n",
       "    <tr>\n",
       "      <th>ZACKARY IRANI</th>\n",
       "      <td>58</td>\n",
       "      <td>360103</td>\n",
       "      <td>male</td>\n",
       "      <td>5.556428</td>\n",
       "    </tr>\n",
       "    <tr>\n",
       "      <th>ZAHID AFZAL</th>\n",
       "      <td>62</td>\n",
       "      <td>0</td>\n",
       "      <td>male</td>\n",
       "      <td>0.000000</td>\n",
       "    </tr>\n",
       "    <tr>\n",
       "      <th>ZENA SRIVATSA ARNOLD</th>\n",
       "      <td>46</td>\n",
       "      <td>189960</td>\n",
       "      <td>female</td>\n",
       "      <td>5.278664</td>\n",
       "    </tr>\n",
       "    <tr>\n",
       "      <th>ZENON S. NIE</th>\n",
       "      <td>73</td>\n",
       "      <td>202703</td>\n",
       "      <td>male</td>\n",
       "      <td>5.306862</td>\n",
       "    </tr>\n",
       "    <tr>\n",
       "      <th>ZHONGLI LIU</th>\n",
       "      <td>64</td>\n",
       "      <td>7043</td>\n",
       "      <td>male</td>\n",
       "      <td>3.847819</td>\n",
       "    </tr>\n",
       "  </tbody>\n",
       "</table>\n",
       "<p>5421 rows × 4 columns</p>\n",
       "</div>"
      ],
      "text/plain": [
       "                      age  compensation  gender  log_compensation\n",
       "NAME                                                             \n",
       "A. CATHERINE NGO       64       1006154  female          6.002665\n",
       "A. EUGENE WASHINGTON   70        324871    male          5.511712\n",
       "A. F. PETROCELLI       80         47000    male          4.672107\n",
       "A. FARAZ ABBASI        52        113631    male          5.055501\n",
       "A. LARRY CHAPMAN       78        259500    male          5.414139\n",
       "...                   ...           ...     ...               ...\n",
       "ZACKARY IRANI          58        360103    male          5.556428\n",
       "ZAHID AFZAL            62             0    male          0.000000\n",
       "ZENA SRIVATSA ARNOLD   46        189960  female          5.278664\n",
       "ZENON S. NIE           73        202703    male          5.306862\n",
       "ZHONGLI LIU            64          7043    male          3.847819\n",
       "\n",
       "[5421 rows x 4 columns]"
      ]
     },
     "execution_count": 7,
     "metadata": {},
     "output_type": "execute_result"
    }
   ],
   "source": [
    "#load the director compensation and demographic data\n",
    "compensation_and_demographics_raw = pandas.read_csv('director-details.csv')\n",
    "\n",
    "#standardize the names to uppercase for consistent merging later\n",
    "compensation_and_demographics_raw['NAME'] = compensation_and_demographics_raw.name.str.upper()\n",
    "\n",
    "def most_common(series):\n",
    "    \"\"\"Return the most frequent value in a series (mode)\"\"\"\n",
    "    mode_values = series.mode()\n",
    "    if len(mode_values) > 0:\n",
    "        return mode_values[0]\n",
    "    return None\n",
    "\n",
    "#aggregate director data, one row per director with combined info across all roles\n",
    "compensation_and_demographics = pandas.DataFrame({\n",
    "    'age': compensation_and_demographics_raw.groupby('NAME').age.max(), #take highest age if multiple entries\n",
    "    'compensation': compensation_and_demographics_raw.groupby('NAME').compensation.sum(), #total compensation across roles\n",
    "    'gender': compensation_and_demographics_raw.groupby('NAME').gender.agg(most_common) #most common gender listed\n",
    "})\n",
    "\n",
    "#validate compensation data after processing\n",
    "print(f\"Processed {len(compensation_and_demographics)} unique directors\")\n",
    "print(f\"Zero compensation entries: {(compensation_and_demographics.compensation == 0).sum()}\")\n",
    "print(f\"Missing age data: {compensation_and_demographics.age.isnull().sum()}\")\n",
    "\n",
    "#log transform compensation to handle extreme outliers and skewed distribution\n",
    "#add 1 to handle zero compensation values (log(0) is undefined)\n",
    "compensation_and_demographics['log_compensation'] = (1 + compensation_and_demographics.compensation).map(math.log10)\n",
    "compensation_and_demographics"
   ]
  },
  {
   "cell_type": "code",
   "execution_count": 9,
   "id": "f29c9d82-a402-491a-9cd9-0a3a5db8983e",
   "metadata": {},
   "outputs": [
    {
     "data": {
      "text/plain": [
       "gender\n",
       "male       3850\n",
       "female     1550\n",
       "None         19\n",
       "unknown       2\n",
       "Name: count, dtype: int64"
      ]
     },
     "execution_count": 9,
     "metadata": {},
     "output_type": "execute_result"
    }
   ],
   "source": [
    "#check gender distribution in the director population\n",
    "compensation_and_demographics.gender.value_counts(dropna=False)"
   ]
  },
  {
   "cell_type": "code",
   "execution_count": 11,
   "id": "1d74aaa8-573a-4693-9bb3-7a9ef40299cf",
   "metadata": {},
   "outputs": [
    {
     "data": {
      "text/plain": [
       "director_name\n",
       "A CHARLENE SULLIVAN, PH.D.     1\n",
       "MICHAEL L. KUTA                1\n",
       "MICHAEL L. LARUSSO             1\n",
       "MICHAEL L. MILLER              1\n",
       "MICHAEL L. OWENS               1\n",
       "                              ..\n",
       "MARTIN L. FLANAGAN            13\n",
       "ANN BARNETT STERN             13\n",
       "TERESA M. RESSEL              13\n",
       "BRUCE L. CROCKETT             13\n",
       "ALBERT R. DOWDEN              14\n",
       "Name: company_name, Length: 11827, dtype: int64"
      ]
     },
     "execution_count": 11,
     "metadata": {},
     "output_type": "execute_result"
    }
   ],
   "source": [
    "#count how many different companies each director serves on\n",
    "directorship_counts = df.groupby('director_name').company_name.nunique().sort_values()\n",
    "directorship_counts"
   ]
  },
  {
   "cell_type": "code",
   "execution_count": 6,
   "id": "44fd1247-353f-401d-be96-67167fcff5f8",
   "metadata": {
    "execution": {
     "iopub.execute_input": "2025-06-05T21:14:45.186192Z",
     "iopub.status.busy": "2025-06-05T21:14:45.185861Z",
     "iopub.status.idle": "2025-06-05T21:14:45.550173Z",
     "shell.execute_reply": "2025-06-05T21:14:45.549084Z",
     "shell.execute_reply.started": "2025-06-05T21:14:45.186162Z"
    }
   },
   "outputs": [
    {
     "data": {
      "text/plain": [
       "<Axes: xlabel='company_name'>"
      ]
     },
     "execution_count": 6,
     "metadata": {},
     "output_type": "execute_result"
    },
    {
     "data": {
      "image/png": "[encoded data removed]",
      "text/plain": [
       "<Figure size 640x480 with 1 Axes>"
      ]
     },
     "metadata": {},
     "output_type": "display_data"
    }
   ],
   "source": [
    "#plot the distribution of directorship counts\n",
    "directorship_counts.value_counts().sort_index().map(math.log10).plot()"
   ]
  },
  {
   "cell_type": "code",
   "execution_count": 7,
   "id": "b5e3f6e1-b9bf-4ad5-8c17-396bc1ca1cbd",
   "metadata": {
    "execution": {
     "iopub.execute_input": "2025-06-05T21:14:45.551729Z",
     "iopub.status.busy": "2025-06-05T21:14:45.551253Z",
     "iopub.status.idle": "2025-06-05T21:14:45.557397Z",
     "shell.execute_reply": "2025-06-05T21:14:45.556349Z",
     "shell.execute_reply.started": "2025-06-05T21:14:45.551695Z"
    }
   },
   "outputs": [],
   "source": [
    "#create an empty graph to represent director-company relationships\n",
    "#this will be a bipartite graphs, directors are connected to companies they serve\n",
    "graph = networkx.Graph()"
   ]
  },
  {
   "cell_type": "markdown",
   "id": "1c1e35a4-a216-45b0-bbaf-1f1a3074a7db",
   "metadata": {},
   "source": [
    "## Build the network graph"
   ]
  },
  {
   "cell_type": "code",
   "execution_count": 8,
   "id": "4b18759f-11e7-4097-a5ce-2f31efe74257",
   "metadata": {
    "execution": {
     "iopub.execute_input": "2025-06-05T21:14:45.558571Z",
     "iopub.status.busy": "2025-06-05T21:14:45.558284Z",
     "iopub.status.idle": "2025-06-05T21:14:45.608000Z",
     "shell.execute_reply": "2025-06-05T21:14:45.607068Z",
     "shell.execute_reply.started": "2025-06-05T21:14:45.558540Z"
    }
   },
   "outputs": [],
   "source": [
    "#build network of directors and companies\n",
    "people = [] \n",
    "companies = [] \n",
    "\n",
    "#add edge between company and director (creates a bipartite network)\n",
    "for company_name, director_name in zip(df.company_name, df.director_name):\n",
    "    graph.add_edge(company_name, director_name) \n",
    "    people.append(director_name)\n",
    "    companies.append(company_name)"
   ]
  },
  {
   "cell_type": "markdown",
   "id": "21ade409-4c98-4d87-b7a0-1982eea5b25e",
   "metadata": {},
   "source": [
    "## Extract main network component\n",
    "Modified: wrong component selection\n",
    "\n",
    "Fixed bug where [0] assumed largest component, now it explicitly finds largest by size"
   ]
  },
  {
   "cell_type": "code",
   "execution_count": 9,
   "id": "ba07222c-8f1d-44fe-a22e-2b518d37606c",
   "metadata": {
    "execution": {
     "iopub.execute_input": "2025-06-05T21:14:45.609373Z",
     "iopub.status.busy": "2025-06-05T21:14:45.609047Z",
     "iopub.status.idle": "2025-06-05T21:14:45.627099Z",
     "shell.execute_reply": "2025-06-05T21:14:45.626071Z",
     "shell.execute_reply.started": "2025-06-05T21:14:45.609345Z"
    }
   },
   "outputs": [
    {
     "name": "stdout",
     "output_type": "stream",
     "text": [
      "Using largest component with 8204 nodes out of 12486 total\n"
     ]
    }
   ],
   "source": [
    "#find the largest connected component for analysis\n",
    "components = list(networkx.connected_components(graph))\n",
    "largest_component = max(components, key=len)\n",
    "biggest_connected_graph = graph.subgraph(largest_component)\n",
    "print(f\"Using largest component with {len(largest_component)} nodes out of {graph.number_of_nodes()} total\")"
   ]
  },
  {
   "cell_type": "markdown",
   "id": "401bdab3-9555-46fa-9c77-dac6f35570d7",
   "metadata": {},
   "source": [
    "## Calculate centrality measures\n",
    "Modified: inefficient lookup\n",
    "\n",
    "Converted people list to set for O(1) lookup instead of O(n) per node\n",
    "\n",
    "Modified - task 1: added betweenness centrality"
   ]
  },
  {
   "cell_type": "code",
   "execution_count": 10,
   "id": "b6ac9a66-827b-49bf-83c9-9bcedec73a09",
   "metadata": {
    "execution": {
     "iopub.execute_input": "2025-06-05T21:14:45.630432Z",
     "iopub.status.busy": "2025-06-05T21:14:45.629995Z",
     "iopub.status.idle": "2025-06-05T21:14:55.411896Z",
     "shell.execute_reply": "2025-06-05T21:14:55.410961Z",
     "shell.execute_reply.started": "2025-06-05T21:14:45.630403Z"
    }
   },
   "outputs": [
    {
     "name": "stdout",
     "output_type": "stream",
     "text": [
      "CPU times: user 4 µs, sys: 1e+03 ns, total: 5 µs\n",
      "Wall time: 7.87 µs\n"
     ]
    }
   ],
   "source": [
    "%time\n",
    "centrality = pandas.DataFrame({\n",
    "    'eigen': pandas.Series(networkx.eigenvector_centrality(biggest_connected_graph)),\n",
    "    'degree': pandas.Series(networkx.algorithms.degree_centrality(biggest_connected_graph)),\n",
    "    'betweenness': pandas.Series(networkx.betweenness_centrality(biggest_connected_graph, k=100)),\n",
    "})\n",
    "\n",
    "#convert to set for efficient lookup\n",
    "people_set = set(people)\n",
    "centrality['is_person'] = centrality.index.map(lambda x: x in people_set)"
   ]
  },
  {
   "cell_type": "markdown",
   "id": "5360814b-c7cf-4945-b81b-a99c00ac85ec",
   "metadata": {},
   "source": [
    "## Merge centrality data with demographics"
   ]
  },
  {
   "cell_type": "code",
   "execution_count": 24,
   "id": "9e374096-f944-45a9-99b1-911fdeadd4c4",
   "metadata": {
    "execution": {
     "iopub.execute_input": "2025-06-05T22:02:47.103641Z",
     "iopub.status.busy": "2025-06-05T22:02:47.103356Z",
     "iopub.status.idle": "2025-06-05T22:02:47.124535Z",
     "shell.execute_reply": "2025-06-05T22:02:47.123565Z",
     "shell.execute_reply.started": "2025-06-05T22:02:47.103621Z"
    }
   },
   "outputs": [
    {
     "name": "stdout",
     "output_type": "stream",
     "text": [
      "Merged 3742 directors\n"
     ]
    }
   ],
   "source": [
    "people_df = centrality[centrality.is_person].merge(compensation_and_demographics, left_index=True, right_index=True)\n",
    "\n",
    "print(f\"Merged {len(people_df)} directors\")"
   ]
  },
  {
   "cell_type": "markdown",
   "id": "55607068-b3a9-4e40-9764-306c8f2970de",
   "metadata": {},
   "source": [
    "## Analyze most influential directors"
   ]
  },
  {
   "cell_type": "code",
   "execution_count": 12,
   "id": "2ee556f1-50a3-4c7c-a2da-3e6985a9d1a3",
   "metadata": {
    "execution": {
     "iopub.execute_input": "2025-06-05T21:14:55.432626Z",
     "iopub.status.busy": "2025-06-05T21:14:55.432361Z",
     "iopub.status.idle": "2025-06-05T21:14:55.468358Z",
     "shell.execute_reply": "2025-06-05T21:14:55.467100Z",
     "shell.execute_reply.started": "2025-06-05T21:14:55.432604Z"
    }
   },
   "outputs": [
    {
     "name": "stdout",
     "output_type": "stream",
     "text": [
      "Top directors by eigenvector centrality (most elite connections):\n",
      "                           eigen    degree  betweenness  age  compensation\n",
      "ELIZABETH KRENTZMAN     0.102439  0.001585          0.0   65       3408245\n",
      "CAROL DECKBAR           0.102439  0.001585          0.0   62         43263\n",
      "ELI JONES               0.102439  0.001585          0.0   63       3063255\n",
      "DOUGLAS SHARP           0.102439  0.001585          0.0   50             0\n",
      "JAMES \"JIM\" LIDDY       0.102439  0.001585          0.0   65         27531\n",
      "JOEL W. MOTLEY          0.102439  0.001585          0.0   72       3118870\n",
      "ROBERT C. TROCCOLI      0.102439  0.001585          0.0   75       3225755\n",
      "PREMA MATHAI-DAVIS      0.102439  0.001585          0.0   74       3208265\n",
      "ANTHONY J. LACAVA, JR.  0.102439  0.001585          0.0   68       3461400\n",
      "BETH ANN BROWN          0.102439  0.001585          0.0   56       6363810\n",
      "\n",
      "Top directors by betweenness centrality (best bridge/broker positions):\n",
      "                                eigen    degree  betweenness  age  \\\n",
      "MICHAEL J. HAPPE         3.210636e-07  0.000244     0.045472   53   \n",
      "JAMES H. MORGAN          5.266725e-20  0.000244     0.034013   77   \n",
      "MATTHEW J. ESPE          6.003444e-18  0.000366     0.032969   66   \n",
      "CHARLES K. STEVENS, III  9.750916e-13  0.000244     0.030000   65   \n",
      "KERRII B. ANDERSON       1.185926e-17  0.000366     0.028967   66   \n",
      "PAUL D. DONAHUE          1.696429e-15  0.000366     0.028821   68   \n",
      "ELLEN J. KULLMAN         1.197794e-17  0.000366     0.027469   61   \n",
      "MARK A. BLINN            3.417870e-15  0.000610     0.027116   63   \n",
      "JOSHUA S. HOROWITZ       2.770932e-29  0.000244     0.026677   46   \n",
      "LEE M. THOMAS            4.128308e-20  0.000244     0.026079   72   \n",
      "\n",
      "                         compensation  \n",
      "MICHAEL J. HAPPE               250000  \n",
      "JAMES H. MORGAN                221200  \n",
      "MATTHEW J. ESPE                125000  \n",
      "CHARLES K. STEVENS, III        495885  \n",
      "KERRII B. ANDERSON             554508  \n",
      "PAUL D. DONAHUE               8250000  \n",
      "ELLEN J. KULLMAN                79970  \n",
      "MARK A. BLINN                  594975  \n",
      "JOSHUA S. HOROWITZ              55626  \n",
      "LEE M. THOMAS                  285758  \n"
     ]
    }
   ],
   "source": [
    "#modified for task 1 - sort by eigenvector centrality to see most influential directors\n",
    "print(\"Top directors by eigenvector centrality (most elite connections):\")\n",
    "print(people_df.sort_values('eigen', ascending=False)[['eigen', 'degree', 'betweenness', 'age', 'compensation']].head(10))\n",
    "print(\"\\nTop directors by betweenness centrality (best bridge/broker positions):\")\n",
    "print(people_df.sort_values('betweenness', ascending=False)[['eigen', 'degree', 'betweenness', 'age', 'compensation']].head(10))"
   ]
  },
  {
   "cell_type": "markdown",
   "id": "9102eb5a-fd1a-4709-ab71-67c047a424f8",
   "metadata": {},
   "source": [
    "## Investigate specific director"
   ]
  },
  {
   "cell_type": "code",
   "execution_count": 13,
   "id": "f0937be4-f460-4959-81a5-b7737898d905",
   "metadata": {
    "execution": {
     "iopub.execute_input": "2025-06-05T21:14:55.469929Z",
     "iopub.status.busy": "2025-06-05T21:14:55.469484Z",
     "iopub.status.idle": "2025-06-05T21:14:55.491369Z",
     "shell.execute_reply": "2025-06-05T21:14:55.490391Z",
     "shell.execute_reply.started": "2025-06-05T21:14:55.469901Z"
    }
   },
   "outputs": [
    {
     "data": {
      "text/html": [
       "<div>\n",
       "<style scoped>\n",
       "    .dataframe tbody tr th:only-of-type {\n",
       "        vertical-align: middle;\n",
       "    }\n",
       "\n",
       "    .dataframe tbody tr th {\n",
       "        vertical-align: top;\n",
       "    }\n",
       "\n",
       "    .dataframe thead th {\n",
       "        text-align: right;\n",
       "    }\n",
       "</style>\n",
       "<table border=\"1\" class=\"dataframe\">\n",
       "  <thead>\n",
       "    <tr style=\"text-align: right;\">\n",
       "      <th></th>\n",
       "      <th>company_name</th>\n",
       "      <th>cikcode</th>\n",
       "      <th>director_name</th>\n",
       "      <th>software_background</th>\n",
       "      <th>start_date</th>\n",
       "      <th>end_date</th>\n",
       "    </tr>\n",
       "  </thead>\n",
       "  <tbody>\n",
       "    <tr>\n",
       "      <th>6297</th>\n",
       "      <td>Invesco Advantage Municipal Income Trust II</td>\n",
       "      <td>908993</td>\n",
       "      <td>ELIZABETH KRENTZMAN</td>\n",
       "      <td>False</td>\n",
       "      <td>2021-06-22</td>\n",
       "      <td>2024-07-02</td>\n",
       "    </tr>\n",
       "    <tr>\n",
       "      <th>6352</th>\n",
       "      <td>Invesco Bond Fund</td>\n",
       "      <td>5094</td>\n",
       "      <td>ELIZABETH KRENTZMAN</td>\n",
       "      <td>False</td>\n",
       "      <td>2021-06-22</td>\n",
       "      <td>2024-07-02</td>\n",
       "    </tr>\n",
       "    <tr>\n",
       "      <th>6407</th>\n",
       "      <td>Invesco California Value Municipal Income Trust</td>\n",
       "      <td>895531</td>\n",
       "      <td>ELIZABETH KRENTZMAN</td>\n",
       "      <td>False</td>\n",
       "      <td>2021-06-22</td>\n",
       "      <td>2024-07-02</td>\n",
       "    </tr>\n",
       "    <tr>\n",
       "      <th>6462</th>\n",
       "      <td>Invesco High Income Trust II</td>\n",
       "      <td>846671</td>\n",
       "      <td>ELIZABETH KRENTZMAN</td>\n",
       "      <td>False</td>\n",
       "      <td>2021-06-22</td>\n",
       "      <td>2024-07-02</td>\n",
       "    </tr>\n",
       "    <tr>\n",
       "      <th>6512</th>\n",
       "      <td>Invesco Municipal Income Opportunities Trust</td>\n",
       "      <td>835333</td>\n",
       "      <td>ELIZABETH KRENTZMAN</td>\n",
       "      <td>False</td>\n",
       "      <td>2021-06-22</td>\n",
       "      <td>2024-07-02</td>\n",
       "    </tr>\n",
       "    <tr>\n",
       "      <th>6546</th>\n",
       "      <td>Invesco Municipal Opportunity Trust</td>\n",
       "      <td>884152</td>\n",
       "      <td>ELIZABETH KRENTZMAN</td>\n",
       "      <td>False</td>\n",
       "      <td>2021-06-22</td>\n",
       "      <td>2024-07-02</td>\n",
       "    </tr>\n",
       "    <tr>\n",
       "      <th>6601</th>\n",
       "      <td>Invesco Municipal Trust</td>\n",
       "      <td>877463</td>\n",
       "      <td>ELIZABETH KRENTZMAN</td>\n",
       "      <td>False</td>\n",
       "      <td>2021-06-22</td>\n",
       "      <td>2024-07-02</td>\n",
       "    </tr>\n",
       "    <tr>\n",
       "      <th>6656</th>\n",
       "      <td>Invesco Pennsylvania Value Municipal Income Trust</td>\n",
       "      <td>895528</td>\n",
       "      <td>ELIZABETH KRENTZMAN</td>\n",
       "      <td>False</td>\n",
       "      <td>2021-06-22</td>\n",
       "      <td>2024-07-02</td>\n",
       "    </tr>\n",
       "    <tr>\n",
       "      <th>6706</th>\n",
       "      <td>Invesco Quality Municipal Income Trust</td>\n",
       "      <td>885125</td>\n",
       "      <td>ELIZABETH KRENTZMAN</td>\n",
       "      <td>False</td>\n",
       "      <td>2021-06-22</td>\n",
       "      <td>2024-07-02</td>\n",
       "    </tr>\n",
       "    <tr>\n",
       "      <th>6740</th>\n",
       "      <td>Invesco Senior Income Trust</td>\n",
       "      <td>1059386</td>\n",
       "      <td>ELIZABETH KRENTZMAN</td>\n",
       "      <td>False</td>\n",
       "      <td>2021-06-22</td>\n",
       "      <td>2024-07-02</td>\n",
       "    </tr>\n",
       "    <tr>\n",
       "      <th>6793</th>\n",
       "      <td>Invesco Trust for Investment Grade Municipals</td>\n",
       "      <td>880892</td>\n",
       "      <td>ELIZABETH KRENTZMAN</td>\n",
       "      <td>False</td>\n",
       "      <td>2021-06-22</td>\n",
       "      <td>2024-07-02</td>\n",
       "    </tr>\n",
       "    <tr>\n",
       "      <th>6848</th>\n",
       "      <td>Invesco Trust for Investment Grade New York Mu...</td>\n",
       "      <td>883265</td>\n",
       "      <td>ELIZABETH KRENTZMAN</td>\n",
       "      <td>False</td>\n",
       "      <td>2021-06-22</td>\n",
       "      <td>2024-07-02</td>\n",
       "    </tr>\n",
       "    <tr>\n",
       "      <th>6898</th>\n",
       "      <td>Invesco Value Municipal Income Trust</td>\n",
       "      <td>885601</td>\n",
       "      <td>ELIZABETH KRENTZMAN</td>\n",
       "      <td>False</td>\n",
       "      <td>2021-06-22</td>\n",
       "      <td>2024-07-02</td>\n",
       "    </tr>\n",
       "  </tbody>\n",
       "</table>\n",
       "</div>"
      ],
      "text/plain": [
       "                                           company_name  cikcode  \\\n",
       "6297        Invesco Advantage Municipal Income Trust II   908993   \n",
       "6352                                  Invesco Bond Fund     5094   \n",
       "6407    Invesco California Value Municipal Income Trust   895531   \n",
       "6462                       Invesco High Income Trust II   846671   \n",
       "6512       Invesco Municipal Income Opportunities Trust   835333   \n",
       "6546                Invesco Municipal Opportunity Trust   884152   \n",
       "6601                            Invesco Municipal Trust   877463   \n",
       "6656  Invesco Pennsylvania Value Municipal Income Trust   895528   \n",
       "6706             Invesco Quality Municipal Income Trust   885125   \n",
       "6740                        Invesco Senior Income Trust  1059386   \n",
       "6793      Invesco Trust for Investment Grade Municipals   880892   \n",
       "6848  Invesco Trust for Investment Grade New York Mu...   883265   \n",
       "6898               Invesco Value Municipal Income Trust   885601   \n",
       "\n",
       "            director_name  software_background  start_date    end_date  \n",
       "6297  ELIZABETH KRENTZMAN                False  2021-06-22  2024-07-02  \n",
       "6352  ELIZABETH KRENTZMAN                False  2021-06-22  2024-07-02  \n",
       "6407  ELIZABETH KRENTZMAN                False  2021-06-22  2024-07-02  \n",
       "6462  ELIZABETH KRENTZMAN                False  2021-06-22  2024-07-02  \n",
       "6512  ELIZABETH KRENTZMAN                False  2021-06-22  2024-07-02  \n",
       "6546  ELIZABETH KRENTZMAN                False  2021-06-22  2024-07-02  \n",
       "6601  ELIZABETH KRENTZMAN                False  2021-06-22  2024-07-02  \n",
       "6656  ELIZABETH KRENTZMAN                False  2021-06-22  2024-07-02  \n",
       "6706  ELIZABETH KRENTZMAN                False  2021-06-22  2024-07-02  \n",
       "6740  ELIZABETH KRENTZMAN                False  2021-06-22  2024-07-02  \n",
       "6793  ELIZABETH KRENTZMAN                False  2021-06-22  2024-07-02  \n",
       "6848  ELIZABETH KRENTZMAN                False  2021-06-22  2024-07-02  \n",
       "6898  ELIZABETH KRENTZMAN                False  2021-06-22  2024-07-02  "
      ]
     },
     "execution_count": 13,
     "metadata": {},
     "output_type": "execute_result"
    }
   ],
   "source": [
    "#look up a specific director's board positions to help validate network analysis results\n",
    "df[df.director_name == 'ELIZABETH KRENTZMAN']"
   ]
  },
  {
   "cell_type": "markdown",
   "id": "fe83bcf3-2912-432f-b220-713f3bb4533d",
   "metadata": {},
   "source": [
    "## Prepare data for clustering"
   ]
  },
  {
   "cell_type": "code",
   "execution_count": 14,
   "id": "25ef7ed7-b7df-4649-81be-ba066ff9cc9b",
   "metadata": {
    "execution": {
     "iopub.execute_input": "2025-06-05T21:14:55.492906Z",
     "iopub.status.busy": "2025-06-05T21:14:55.492396Z",
     "iopub.status.idle": "2025-06-05T21:14:55.534932Z",
     "shell.execute_reply": "2025-06-05T21:14:55.533965Z",
     "shell.execute_reply.started": "2025-06-05T21:14:55.492830Z"
    }
   },
   "outputs": [],
   "source": [
    "#use RobustScaler to handle outliers in compensation and centrality measures\n",
    "robust_scaler = sklearn.preprocessing.RobustScaler()\n",
    "\n",
    "#scale features to ensure all variables contribute equally to clustering\n",
    "#combine demographic info (age, compensation) with network position (centralities)\n",
    "age_and_demographics_scaled = robust_scaler.fit_transform(people_df[['age', 'log_compensation', 'degree', 'eigen', 'betweenness']])"
   ]
  },
  {
   "cell_type": "markdown",
   "id": "be1d974f-14d1-4040-a8ad-31ec4863a594",
   "metadata": {},
   "source": [
    "## Perform clustering analysis"
   ]
  },
  {
   "cell_type": "code",
   "execution_count": 15,
   "id": "e3f75a42-4e69-4356-aaa8-70b0b4b16fc8",
   "metadata": {
    "execution": {
     "iopub.execute_input": "2025-06-05T21:14:55.536351Z",
     "iopub.status.busy": "2025-06-05T21:14:55.536079Z",
     "iopub.status.idle": "2025-06-05T21:14:55.636828Z",
     "shell.execute_reply": "2025-06-05T21:14:55.636050Z",
     "shell.execute_reply.started": "2025-06-05T21:14:55.536330Z"
    }
   },
   "outputs": [
    {
     "data": {
      "text/plain": [
       "cluster_id\n",
       " 1    3117\n",
       " 0     385\n",
       " 2     109\n",
       "-1      72\n",
       " 3      24\n",
       " 4      19\n",
       " 7       8\n",
       " 6       5\n",
       " 5       3\n",
       "Name: count, dtype: int64"
      ]
     },
     "execution_count": 15,
     "metadata": {},
     "output_type": "execute_result"
    }
   ],
   "source": [
    "#use DBscan clustering to identify groups of similar directors\n",
    "dbscan = sklearn.cluster.DBSCAN(eps=0.4)\n",
    "people_df['cluster_id'] = dbscan.fit_predict(age_and_demographics_scaled)\n",
    "people_df.cluster_id.value_counts() #show cluster distribution (-1 represents outliers/noise points)"
   ]
  },
  {
   "cell_type": "markdown",
   "id": "6857b158-259a-43b5-b6c2-62b1a493c3b1",
   "metadata": {},
   "source": [
    "## Visualize clustering results"
   ]
  },
  {
   "cell_type": "code",
   "execution_count": 16,
   "id": "68e8717b-a2fa-4c7b-987b-95e5f0e0358f",
   "metadata": {
    "execution": {
     "iopub.execute_input": "2025-06-05T21:14:55.637992Z",
     "iopub.status.busy": "2025-06-05T21:14:55.637711Z",
     "iopub.status.idle": "2025-06-05T21:14:56.070964Z",
     "shell.execute_reply": "2025-06-05T21:14:56.069976Z",
     "shell.execute_reply.started": "2025-06-05T21:14:55.637972Z"
    }
   },
   "outputs": [
    {
     "data": {
      "text/plain": [
       "<Axes: xlabel='age', ylabel='log_compensation'>"
      ]
     },
     "execution_count": 16,
     "metadata": {},
     "output_type": "execute_result"
    },
    {
     "data": {
      "image/png": "[encoded data removed]",
      "text/plain": [
       "<Figure size 640x480 with 2 Axes>"
      ]
     },
     "metadata": {},
     "output_type": "display_data"
    }
   ],
   "source": [
    "#create scatter plot showing director clusters by age vs compensation\n",
    "people_df.plot.scatter(x='age', y='log_compensation', c='cluster_id', cmap=\"rainbow\", s=4)"
   ]
  },
  {
   "cell_type": "markdown",
   "id": "832364a7-51af-4664-ba96-87590450a440",
   "metadata": {},
   "source": [
    "## Examine specific director profile"
   ]
  },
  {
   "cell_type": "code",
   "execution_count": 17,
   "id": "282b9b61-9d9b-45a2-9b32-676a4e6d2d91",
   "metadata": {
    "execution": {
     "iopub.execute_input": "2025-06-05T21:14:56.072273Z",
     "iopub.status.busy": "2025-06-05T21:14:56.071943Z",
     "iopub.status.idle": "2025-06-05T21:14:56.080587Z",
     "shell.execute_reply": "2025-06-05T21:14:56.079755Z",
     "shell.execute_reply.started": "2025-06-05T21:14:56.072229Z"
    }
   },
   "outputs": [
    {
     "data": {
      "text/plain": [
       "eigen               0.102439\n",
       "degree              0.001585\n",
       "betweenness              0.0\n",
       "is_person               True\n",
       "age                       65\n",
       "compensation         3408245\n",
       "gender                female\n",
       "log_compensation    6.532531\n",
       "cluster_id                 2\n",
       "Name: ELIZABETH KRENTZMAN, dtype: object"
      ]
     },
     "execution_count": 17,
     "metadata": {},
     "output_type": "execute_result"
    }
   ],
   "source": [
    "#look up detailed profile for the director investigated earlier\n",
    "#shows their cluster assignment and all calculated metrics\n",
    "people_df.loc['ELIZABETH KRENTZMAN']"
   ]
  },
  {
   "cell_type": "markdown",
   "id": "5a2f5e93-6b83-44c8-90e2-848bcca72c08",
   "metadata": {},
   "source": [
    "## Task 3: explore director tenure\n",
    "Analyzing director tenure (length of service) as an additional dimension for identifying influential board members"
   ]
  },
  {
   "cell_type": "code",
   "execution_count": 18,
   "id": "94c9b507-4328-4a6e-b32d-ad66106d73a2",
   "metadata": {
    "execution": {
     "iopub.execute_input": "2025-06-05T21:14:56.082066Z",
     "iopub.status.busy": "2025-06-05T21:14:56.081749Z",
     "iopub.status.idle": "2025-06-05T21:14:56.118255Z",
     "shell.execute_reply": "2025-06-05T21:14:56.117220Z",
     "shell.execute_reply.started": "2025-06-05T21:14:56.082039Z"
    }
   },
   "outputs": [
    {
     "name": "stdout",
     "output_type": "stream",
     "text": [
      "Director Tenure Analysis:\n",
      "Average tenure: 4.9 years\n",
      "Median tenure: 4.0 years\n",
      "Longest tenure: 24.0 years\n",
      "Shortest tenure: 0.0 years\n"
     ]
    }
   ],
   "source": [
    "#calculate director tenure from start and end dates\n",
    "#this provides insight into director experience and established relationships\n",
    "df['start_date'] = pandas.to_datetime(df['start_date'])\n",
    "df['end_date'] = pandas.to_datetime(df['end_date'])\n",
    "df['tenure_days'] = (df['end_date'] - df['start_date']).dt.days\n",
    "df['tenure_years'] = df['tenure_days'] / 365.25\n",
    "\n",
    "print(\"Director Tenure Analysis:\")\n",
    "print(f\"Average tenure: {df['tenure_years'].mean():.1f} years\")\n",
    "print(f\"Median tenure: {df['tenure_years'].median():.1f} years\")\n",
    "print(f\"Longest tenure: {df['tenure_years'].max():.1f} years\")\n",
    "print(f\"Shortest tenure: {df['tenure_years'].min():.1f} years\")"
   ]
  },
  {
   "cell_type": "code",
   "execution_count": 19,
   "id": "926eeb65-8753-4cdf-ab99-1a0fe66d9ea4",
   "metadata": {
    "execution": {
     "iopub.execute_input": "2025-06-05T21:14:56.119562Z",
     "iopub.status.busy": "2025-06-05T21:14:56.119279Z",
     "iopub.status.idle": "2025-06-05T21:14:56.329991Z",
     "shell.execute_reply": "2025-06-05T21:14:56.328920Z",
     "shell.execute_reply.started": "2025-06-05T21:14:56.119539Z"
    }
   },
   "outputs": [
    {
     "data": {
      "text/plain": [
       "<Axes: >"
      ]
     },
     "execution_count": 19,
     "metadata": {},
     "output_type": "execute_result"
    },
    {
     "data": {
      "image/png": "[encoded data removed]",
      "text/plain": [
       "<Figure size 640x480 with 1 Axes>"
      ]
     },
     "metadata": {},
     "output_type": "display_data"
    }
   ],
   "source": [
    "#visualize tenure distribution to understand director service patterns\n",
    "df['tenure_years'].hist(bins=30, alpha=0.7)"
   ]
  },
  {
   "cell_type": "code",
   "execution_count": 20,
   "id": "e49e1041-ffa3-43ec-aaee-4d2539b9c99b",
   "metadata": {
    "execution": {
     "iopub.execute_input": "2025-06-05T21:14:56.331467Z",
     "iopub.status.busy": "2025-06-05T21:14:56.331142Z",
     "iopub.status.idle": "2025-06-05T21:14:56.368155Z",
     "shell.execute_reply": "2025-06-05T21:14:56.367223Z",
     "shell.execute_reply.started": "2025-06-05T21:14:56.331445Z"
    }
   },
   "outputs": [
    {
     "name": "stdout",
     "output_type": "stream",
     "text": [
      "Successfully merged tenure data for 3742 directors\n",
      "\n",
      "Sample of tenure vs centrality data:\n",
      "                                  eigen  betweenness  tenure_years  \\\n",
      "CHRISTOPHER J. MURPHY III  2.653687e-20          0.0     16.999316   \n",
      "CHRISTOPHER J. MURPHY IV   2.653687e-20          0.0     14.001369   \n",
      "DANIEL B. FITZPATRICK      2.653687e-20          0.0     16.999316   \n",
      "ISAAC P. TORRES            2.653687e-20          0.0      2.012320   \n",
      "JOHN F. AFFLECK-GRAVES     2.653687e-20          0.0      5.002053   \n",
      "\n",
      "                           board_count  compensation  \n",
      "CHRISTOPHER J. MURPHY III            1             0  \n",
      "CHRISTOPHER J. MURPHY IV             1        123120  \n",
      "DANIEL B. FITZPATRICK                1        165620  \n",
      "ISAAC P. TORRES                      1        166620  \n",
      "JOHN F. AFFLECK-GRAVES               1        127620  \n"
     ]
    }
   ],
   "source": [
    "#analyze relationship between tenure and network centrality\n",
    "#longer serving directors may have more established connections for facilitating acquisitions\n",
    "\n",
    "#merge tenure data with centrality analysis\n",
    "director_tenure = df.groupby('director_name').agg({\n",
    "    'tenure_years': 'mean', #average tenure across all board positions\n",
    "    'company_name': 'count' #number of boards served on\n",
    "}).rename(columns={'company_name': 'board_count'})\n",
    "\n",
    "#merge with existing centrality data (convert to uppercase for matching)\n",
    "director_tenure.index = director_tenure.index.str.upper()\n",
    "tenure_centrality = people_df.merge(director_tenure, left_index=True, right_index=True, how='inner')\n",
    "\n",
    "print(f\"Successfully merged tenure data for {len(tenure_centrality)} directors\")\n",
    "print(\"\\nSample of tenure vs centrality data:\")\n",
    "print(tenure_centrality[['eigen', 'betweenness', 'tenure_years', 'board_count', 'compensation']].head())"
   ]
  },
  {
   "cell_type": "code",
   "execution_count": 21,
   "id": "9a2e15a2-a35b-4534-ab88-c4204ff49d63",
   "metadata": {
    "execution": {
     "iopub.execute_input": "2025-06-05T21:14:56.369542Z",
     "iopub.status.busy": "2025-06-05T21:14:56.369240Z",
     "iopub.status.idle": "2025-06-05T21:14:56.389472Z",
     "shell.execute_reply": "2025-06-05T21:14:56.388452Z",
     "shell.execute_reply.started": "2025-06-05T21:14:56.369517Z"
    }
   },
   "outputs": [
    {
     "name": "stdout",
     "output_type": "stream",
     "text": [
      "High tenure threshold: 7.6 years\n",
      "High eigenvector centrality threshold: 0.000000\n",
      "\n",
      "Prime targets - High eigenvector centrality + High tenure:\n",
      "                              eigen  betweenness  tenure_years  board_count  \\\n",
      "PREMA MATHAI-DAVIS     1.024389e-01          0.0      8.982888           13   \n",
      "ELI JONES              1.024389e-01          0.0      7.950719           13   \n",
      "ROBERT C. TROCCOLI     1.024389e-01          0.0      7.950719           13   \n",
      "BARRY H. GOLSEN, J.D.  3.245081e-07          0.0     13.924709            1   \n",
      "LYNN F. WHITE          3.245081e-07          0.0      8.952772            1   \n",
      "RICHARD W. ROEDEL      3.245081e-07          0.0      8.952772            1   \n",
      "JONATHAN S. BOBB       3.245081e-07          0.0      7.953457            1   \n",
      "WILLIAM C. FISHER      3.205108e-07          0.0      9.026694            1   \n",
      "CHRISTOPHER J. BRAUN   3.205108e-07          0.0      8.046543            1   \n",
      "DAVID W. MILES         3.205108e-07          0.0      8.046543            1   \n",
      "\n",
      "                       age  compensation  \n",
      "PREMA MATHAI-DAVIS      74       3208265  \n",
      "ELI JONES               63       3063255  \n",
      "ROBERT C. TROCCOLI      75       3225755  \n",
      "BARRY H. GOLSEN, J.D.   73        190000  \n",
      "LYNN F. WHITE           71        200001  \n",
      "RICHARD W. ROEDEL       74        257501  \n",
      "JONATHAN S. BOBB        48        192500  \n",
      "WILLIAM C. FISHER       70        255000  \n",
      "CHRISTOPHER J. BRAUN    64        240000  \n",
      "DAVID W. MILES          67        365000  \n"
     ]
    }
   ],
   "source": [
    "#identify directors with both high centrality and substantial tenure\n",
    "#these represent the most valuable targets for the VC fund's acquisition strategy\n",
    "\n",
    "#define thresholds for \"high\" tenure and centrality\n",
    "high_tenure_threshold = tenure_centrality['tenure_years'].quantile(0.75) #top 25% by tenure\n",
    "high_eigen_threshold = tenure_centrality['eigen'].quantile(0.75) #top 25% by eigenvector centrality\n",
    "\n",
    "print(f\"High tenure threshold: {high_tenure_threshold:.1f} years\")\n",
    "print(f\"High eigenvector centrality threshold: {high_eigen_threshold:.6f}\")\n",
    "\n",
    "#find directors who are high in both tenure and centrality measures\n",
    "prime_targets = tenure_centrality[\n",
    "    (tenure_centrality['tenure_years'] >= high_tenure_threshold) & \n",
    "    (tenure_centrality['eigen'] >= high_eigen_threshold)\n",
    "].sort_values(['eigen', 'tenure_years'], ascending=False)\n",
    "\n",
    "print(\"\\nPrime targets - High eigenvector centrality + High tenure:\")\n",
    "print(prime_targets[['eigen', 'betweenness', 'tenure_years', 'board_count', 'age', 'compensation']].head(10))"
   ]
  }
 ],
 "metadata": {
  "kaggle": {
   "accelerator": "none",
   "dataSources": [
    {
     "datasetId": 7599665,
     "sourceId": 12072931,
     "sourceType": "datasetVersion"
    }
   ],
   "dockerImageVersionId": 31040,
   "isGpuEnabled": false,
   "isInternetEnabled": true,
   "language": "python",
   "sourceType": "notebook"
  },
  "kernelspec": {
   "display_name": "Python 3 (ipykernel)",
   "language": "python",
   "name": "python3"
  },
  "language_info": {
   "codemirror_mode": {
    "name": "ipython",
    "version": 3
   },
   "file_extension": ".py",
   "mimetype": "text/x-python",
   "name": "python",
   "nbconvert_exporter": "python",
   "pygments_lexer": "ipython3",
   "version": "3.12.4"
  }
 },
 "nbformat": 4,
 "nbformat_minor": 5
}
